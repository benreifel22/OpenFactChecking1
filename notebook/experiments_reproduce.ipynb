{
 "cells": [
  {
   "cell_type": "markdown",
   "id": "198318d0-cdec-4557-83be-dd90925e0500",
   "metadata": {},
   "source": [
    "## Dataset"
   ]
  },
  {
   "cell_type": "markdown",
   "id": "b337d35b-982e-4b2a-9a8f-e136da8a44b8",
   "metadata": {},
   "source": [
    "### Identify domain and topics"
   ]
  },
  {
   "cell_type": "markdown",
   "id": "6d7e4012-0430-418f-ab8f-7174c0756630",
   "metadata": {},
   "source": [
    "- assign domain and topic to the question\n",
    "- analyze domain and topic distributions"
   ]
  },
  {
   "cell_type": "code",
   "execution_count": null,
   "id": "34b336e8-18cb-4915-8506-ec7f00fb5d16",
   "metadata": {},
   "outputs": [],
   "source": [
    "import sys\n",
    "sys.path.append(\"../data/src\")\n",
    "import pandas as pd\n",
    "from prepare_data import IDENTIFY_DOMAIN_TOPIC_PROMPT, gpt_json_mode,  identify_domain_and_topic\n",
    "\n",
    "responses = identify_domain_and_topic(datadir=\"../data/evaluate_llm_factuality_dataset.jsonl\", \n",
    "                                      savedir = \"../data/domain_topic.jsonl\")\n",
    "\n",
    "# incorporate domain and topic fields into dataset examples.\n",
    "df = pd.read_json(\"../data/evaluate_llm_factuality_dataset.jsonl\", lines=True)\n",
    "count = 0\n",
    "for k, row in df.iterrows():\n",
    "    if row[\"domain\"] != \"biograghy\":\n",
    "        try:\n",
    "            row[\"domain\"] = responses[k][\"domain\"]\n",
    "            row[\"topic\"] = responses[k][\"topic\"]\n",
    "        except Exception as e:\n",
    "            print(responses[k])\n",
    "        count += 1\n",
    "print(count)\n",
    "df.to_json(\"../data/evaluate_llm_factuality_dataset_test.jsonl\", lines=True, orient=\"records\", force_ascii=False)"
   ]
  },
  {
   "cell_type": "code",
   "execution_count": 3,
   "id": "385388fb-3242-454f-96c8-3849d6ec863f",
   "metadata": {},
   "outputs": [
    {
     "name": "stdout",
     "output_type": "stream",
     "text": [
      "6480 483 4740\n"
     ]
    }
   ],
   "source": [
    "import pandas as pd\n",
    "df = pd.read_json(\"../data/evaluate_llm_factuality_dataset.jsonl\", lines=True)\n",
    "\n",
    "d = df.domain.value_counts() \n",
    "t = df.topic.value_counts()\n",
    "print(len(df), len(d), len(t))"
   ]
  },
  {
   "cell_type": "markdown",
   "id": "566c5846-101a-4415-945e-56698311e6dc",
   "metadata": {},
   "source": [
    "### Response Length"
   ]
  },
  {
   "cell_type": "code",
   "execution_count": 10,
   "id": "4fedc2cd-2242-4099-af5e-b9bc8a4ba678",
   "metadata": {},
   "outputs": [
    {
     "name": "stdout",
     "output_type": "stream",
     "text": [
      "factcheckgpt GPT4_response 117.3\n",
      "factcheckgpt llama7b_response 152.7\n",
      "factcheckgpt llama13b_response 143.9\n",
      "factool-qa GPT4_response 39.5\n",
      "factool-qa llama7b_response 127.3\n",
      "factool-qa llama13b_response 129.5\n",
      "felm-wk GPT4_response 62.8\n",
      "felm-wk llama7b_response 131.0\n",
      "felm-wk llama13b_response 125.5\n",
      "\n",
      "\n",
      "GPT4_response 82.2\n",
      "llama7b_response 132.1\n",
      "llama13b_response 121.9\n"
     ]
    }
   ],
   "source": [
    "df = pd.read_json(\"../data/evaluate_llm_factuality_dataset.jsonl\", lines=True)\n",
    "# print(df.source.unique())\n",
    "\n",
    "def calculate_text_length(text):\n",
    "    # Split the text into words\n",
    "    words = text.strip().split()\n",
    "    words = [w for w in words if w.strip() != '']\n",
    "    \n",
    "    # Count the number of words\n",
    "    num_words = len(words)\n",
    "    \n",
    "    # Return the number of words\n",
    "    return num_words\n",
    "\n",
    "\n",
    "for source in ['factcheckgpt', 'factool-qa',  'felm-wk']:\n",
    "    dfs = df[df['source'] == source]\n",
    "    for model in ['GPT4_response', 'llama7b_response', 'llama13b_response']:\n",
    "        responses = dfs[model].to_list()\n",
    "        L = 0\n",
    "        for text in responses:\n",
    "            L += calculate_text_length(text)\n",
    "        print(source, model, round(L/len(responses), 1))\n",
    "print(\"\\n\")\n",
    "for model in ['GPT4_response', 'llama7b_response', 'llama13b_response']:\n",
    "    responses = df[model].to_list()\n",
    "    L = 0\n",
    "    for text in responses:\n",
    "        L += calculate_text_length(text)\n",
    "    print(model, round(L/len(responses), 1))"
   ]
  },
  {
   "cell_type": "markdown",
   "id": "61c6d85f-288c-4244-ba84-e5253ee2f4df",
   "metadata": {},
   "source": [
    "## LLM Evaluation"
   ]
  },
  {
   "cell_type": "markdown",
   "id": "9ad456f5-c1f3-4c09-b022-a749c7bff5cd",
   "metadata": {},
   "source": [
    "### Evaluate Factuality of Three LLMs"
   ]
  },
  {
   "cell_type": "code",
   "execution_count": null,
   "id": "78ed6e96-91de-4a5d-a477-5fc4aa59de6c",
   "metadata": {},
   "outputs": [],
   "source": [
    "import sys\n",
    "sys.path.append(\"../eval_llm\")\n",
    "\n",
    "import pandas as pd\n",
    "from evaluate_llm_factuality import get_dataset_model_response, snowballing_evaluation, selfaware_evaluation, fresh_evaluation\n",
    "\n",
    "df = pd.read_json(\"../data/evaluate_llm_factuality_dataset.jsonl\", lines=True)\n",
    "models_res = [\"llama7b_response\", \"llama13b_response\", \"GPT4_response\"]\n",
    "\n",
    "for llm in models_res:\n",
    "    print(llm)\n",
    "    llm_responses = get_dataset_model_response(df, 'snowballing', llm)\n",
    "    results, _, _ = snowballing_evaluation(llm_responses, \"../data/llm_eval_results/\", llm)\n",
    "    print([v['accuracy'] for k,v in results.items()])\n",
    "\n",
    "for llm in models_res:\n",
    "    print(llm)\n",
    "    llm_responses = get_dataset_model_response(df, 'selfaware', llm)\n",
    "    results, labels, preds = selfaware_evaluation(llm_responses, \"../data/llm_eval_results/\", llm)\n",
    "    print(results)\n",
    "\n",
    "for llm in models_res:\n",
    "    llm_responses = get_dataset_model_response(df, 'freshqa', llm)\n",
    "    acc = fresh_evaluation(llm_responses, \"../data/llm_eval_results/\", llm)\n",
    "    print(llm, acc)\n",
    "\n",
    "# Run Factool to evaluate free-form llm responses for other four datasets"
   ]
  },
  {
   "cell_type": "markdown",
   "id": "73ea81c6-e46d-4677-aa9d-e0efaad13b75",
   "metadata": {},
   "source": [
    "### Analyze Factool Evaluation Results"
   ]
  },
  {
   "cell_type": "code",
   "execution_count": 4,
   "id": "6e937f6c-9179-4dcc-b503-f4c53771708c",
   "metadata": {},
   "outputs": [],
   "source": [
    "import os\n",
    "import json\n",
    "import numpy as np\n",
    "import matplotlib.pyplot as plt\n",
    "\n",
    "# Calculate cost (in USD) for the API calls => 2x API calls per claim\n",
    "def calcPrice(numClaims, costOpenAI=0.015, costSerper=0.001):\n",
    "    return numClaims * 2 * (costOpenAI + costSerper)\n",
    "\n",
    "# Helper function: Sum all elements of an object\n",
    "def sumAllObj(obj):\n",
    "    ret = 0\n",
    "    for k, v in obj.items():\n",
    "        ret += v\n",
    "    return ret\n",
    "\n",
    "# Collect data from project directory\n",
    "def collect_data(projectdir):\n",
    "    data = []\n",
    "    for dirname in os.listdir(projectdir):\n",
    "        dirpath = os.path.join(projectdir, dirname)\n",
    "        if os.path.isdir(dirpath):\n",
    "            if os.path.exists(os.path.join(dirpath, 'eval_result.json')):\n",
    "                with open(os.path.join(dirpath, 'eval_result.json'), 'r') as f:\n",
    "                    data.append(json.load(f))\n",
    "    return data\n",
    "\n",
    "data = collect_data(\"../data/llm_eval_results/factool_eval_llm/\")"
   ]
  },
  {
   "cell_type": "markdown",
   "id": "cec87b3f-77c4-4507-86b1-a027e43ddc46",
   "metadata": {},
   "source": [
    "#### Number of False claims"
   ]
  },
  {
   "cell_type": "code",
   "execution_count": 6,
   "id": "696dca12-6a63-4db4-bfbc-7ac35b7c7e09",
   "metadata": {},
   "outputs": [
    {
     "data": {
      "image/png": "[encoded data removed]",
      "text/plain": [
       "<Figure size 640x480 with 1 Axes>"
      ]
     },
     "metadata": {},
     "output_type": "display_data"
    }
   ],
   "source": [
    "# Filter factool-qa|felm-wk|factcheckgpt datasets and GPT4|llama7b|llama13b llms\n",
    "falseClaims = [[0, 0, 0],[0, 0, 0],[0, 0, 0]]\n",
    "for d in data:\n",
    "    if d[\"llm\"] == \"GPT4_response\":\n",
    "        if d[\"dataset\"] == \"factool-qa\":\n",
    "            falseClaims[0][0] += d[\"claims\"][\"numFalseClaims\"]\n",
    "        elif d[\"dataset\"] == \"felm-wk\":\n",
    "            falseClaims[0][1] += d[\"claims\"][\"numFalseClaims\"]\n",
    "        elif d[\"dataset\"] == \"factcheckgpt\":\n",
    "            falseClaims[0][2] += d[\"claims\"][\"numFalseClaims\"]\n",
    "    elif d[\"llm\"] == \"llama7b_response\":\n",
    "        if d[\"dataset\"] == \"factool-qa\":\n",
    "            falseClaims[1][0] += d[\"claims\"][\"numFalseClaims\"]\n",
    "        elif d[\"dataset\"] == \"felm-wk\":\n",
    "            falseClaims[1][1] += d[\"claims\"][\"numFalseClaims\"]\n",
    "        elif d[\"dataset\"] == \"factcheckgpt\":\n",
    "            falseClaims[1][2] += d[\"claims\"][\"numFalseClaims\"]\n",
    "    elif d[\"llm\"] == \"llama13b_response\":\n",
    "        if d[\"dataset\"] == \"factool-qa\":\n",
    "            falseClaims[2][0] += d[\"claims\"][\"numFalseClaims\"]\n",
    "        elif d[\"dataset\"] == \"felm-wk\":\n",
    "            falseClaims[2][1] += d[\"claims\"][\"numFalseClaims\"]\n",
    "        elif d[\"dataset\"] == \"factcheckgpt\":\n",
    "            falseClaims[2][2] += d[\"claims\"][\"numFalseClaims\"]\n",
    "\n",
    "# set width of bars\n",
    "barWidth = 0.25\n",
    " \n",
    "# Set position of bar on X axis\n",
    "r1 = np.arange(len(falseClaims[0]))\n",
    "r2 = [x + barWidth for x in r1]\n",
    "r3 = [x + barWidth for x in r2]\n",
    " \n",
    "# Make the plot\n",
    "plt.bar(r1, falseClaims[1], color='red', width=barWidth, edgecolor='white', label='Llama-7b', alpha=0.5)\n",
    "plt.bar(r2, falseClaims[2], color='blue', width=barWidth, edgecolor='white', label='Llama-13b', alpha=0.5)\n",
    "plt.bar(r3, falseClaims[0], color='green', width=barWidth, edgecolor='white', label='GPT-4', alpha=0.5)\n",
    " \n",
    "# Add xticks on the middle of the group bars\n",
    "# plt.xlabel('False claims per dataset per LLM', fontweight='bold')\n",
    "plt.xticks([r + barWidth for r in range(len(falseClaims[0]))], ['factool-qa', 'felm-wk', 'factcheckgpt'], fontweight='bold')\n",
    "plt.ylabel('Number of false claims', fontweight='bold')\n",
    " \n",
    "# Create legend & Show graphic\n",
    "plt.legend()\n",
    "# plt.show()\n",
    "plt.tight_layout()\n",
    "plt.savefig(\"../figs/freeform_numfalseclaim.pdf\", format='pdf')"
   ]
  },
  {
   "cell_type": "markdown",
   "id": "9a334616-ffeb-4b39-af39-93d2446e74a8",
   "metadata": {},
   "source": [
    "#### Percentage of true claims"
   ]
  },
  {
   "cell_type": "code",
   "execution_count": 11,
   "id": "08f531a3-17cd-4ef8-a7ae-f4471d7ceb50",
   "metadata": {},
   "outputs": [
    {
     "data": {
      "image/png": "[encoded data removed]",
      "text/plain": [
       "<Figure size 640x480 with 1 Axes>"
      ]
     },
     "metadata": {},
     "output_type": "display_data"
    }
   ],
   "source": [
    "# Filter factool-qa|felm-wk|factcheckgpt datasets and GPT4|llama7b|llama13b llms\n",
    "def cal_all_claims(d):\n",
    "    total = d[\"claims\"][\"numTrueClaims\"] + d[\"claims\"][\"numFalseClaims\"] + \\\n",
    "    d[\"claims\"][\"numUndefinedClaims\"] + d[\"claims\"][\"numMixedClaims\"]\n",
    "    return total\n",
    "\n",
    "target = [\"numTrueClaims\", \"numFalseClaims\", \"numUndefinedClaims\", \"numMixedClaims\"][0]\n",
    "allClaims = [[0, 0, 0],[0, 0, 0],[0, 0, 0]]\n",
    "targetClaims = [[0, 0, 0],[0, 0, 0],[0, 0, 0]]\n",
    "for d in data:\n",
    "    if d[\"llm\"] == \"GPT4_response\":\n",
    "        if d[\"dataset\"] == \"factool-qa\":\n",
    "            allClaims[0][0] += cal_all_claims(d)\n",
    "            targetClaims[0][0] += d[\"claims\"][target]\n",
    "        elif d[\"dataset\"] == \"felm-wk\":\n",
    "            allClaims[0][1] += cal_all_claims(d)\n",
    "            targetClaims[0][1] += d[\"claims\"][target]\n",
    "        elif d[\"dataset\"] == \"factcheckgpt\":\n",
    "            allClaims[0][2] += cal_all_claims(d)\n",
    "            targetClaims[0][2] += d[\"claims\"][target]\n",
    "    elif d[\"llm\"] == \"llama7b_response\":\n",
    "        if d[\"dataset\"] == \"factool-qa\":\n",
    "            allClaims[1][0] += cal_all_claims(d)\n",
    "            targetClaims[1][0] += d[\"claims\"][target]\n",
    "        elif d[\"dataset\"] == \"felm-wk\":\n",
    "            allClaims[1][1] += cal_all_claims(d)\n",
    "            targetClaims[1][1] += d[\"claims\"][target]\n",
    "        elif d[\"dataset\"] == \"factcheckgpt\":\n",
    "            allClaims[1][2] += cal_all_claims(d)\n",
    "            targetClaims[1][2] += d[\"claims\"][target]\n",
    "    elif d[\"llm\"] == \"llama13b_response\":\n",
    "        if d[\"dataset\"] == \"factool-qa\":\n",
    "            allClaims[2][0] += cal_all_claims(d)\n",
    "            targetClaims[2][0] += d[\"claims\"][target]\n",
    "        elif d[\"dataset\"] == \"felm-wk\":\n",
    "            allClaims[2][1] += cal_all_claims(d)\n",
    "            targetClaims[2][1] += d[\"claims\"][target]\n",
    "        elif d[\"dataset\"] == \"factcheckgpt\":\n",
    "            allClaims[2][2] += cal_all_claims(d)\n",
    "            targetClaims[2][2] += d[\"claims\"][target]\n",
    "\n",
    "target_ratio = [[0, 0, 0],[0, 0, 0],[0, 0, 0]]\n",
    "for i in range(3):\n",
    "    for j in range(3):\n",
    "        target_ratio[i][j] = round(targetClaims[i][j]/allClaims[i][j], 4) * 100\n",
    "\n",
    "# set width of bars\n",
    "barWidth = 0.25\n",
    " \n",
    "# Set position of bar on X axis\n",
    "r1 = np.arange(len(target_ratio[0]))\n",
    "r2 = [x + barWidth for x in r1]\n",
    "r3 = [x + barWidth for x in r2]\n",
    " \n",
    "# Make the plot\n",
    "plt.bar(r1, target_ratio[1], color='#453896', width=barWidth, edgecolor='white', label='Llama-7b')\n",
    "plt.bar(r2, target_ratio[2], color='#6790D7', width=barWidth, edgecolor='white', label='Llama-13b')\n",
    "plt.bar(r3, target_ratio[0], color='#A569BD', width=barWidth, edgecolor='white', label='GPT-4')\n",
    " \n",
    "# Add xticks on the middle of the group bars\n",
    "# plt.xlabel('True claims per dataset per LLM', fontweight='bold')\n",
    "plt.xticks([r + barWidth for r in range(len(target_ratio[0]))], ['factool-qa', 'felm-wk', 'factcheckgpt'], fontweight='bold')\n",
    "plt.ylabel('Percentage of true claims', fontweight='bold')\n",
    "plt.ylim(87, 96)\n",
    " \n",
    "# Create legend & Show graphic\n",
    "plt.legend()\n",
    "# plt.show()\n",
    "plt.tight_layout()\n",
    "plt.savefig(\"../figs/freeform_ratiotrueclaim.pdf\", format='pdf')"
   ]
  },
  {
   "cell_type": "code",
   "execution_count": 12,
   "id": "8fb8fbd4-db89-4bc8-a608-b652fc4f58be",
   "metadata": {},
   "outputs": [
    {
     "data": {
      "image/png": "[encoded data removed]",
      "text/plain": [
       "<Figure size 640x480 with 1 Axes>"
      ]
     },
     "metadata": {},
     "output_type": "display_data"
    }
   ],
   "source": [
    "# set width of bars\n",
    "barWidth = 0.25\n",
    " \n",
    "# Set position of bar on X axis\n",
    "r1 = np.arange(len(targetClaims[0]))\n",
    "r2 = [x + barWidth for x in r1]\n",
    "r3 = [x + barWidth for x in r2]\n",
    " \n",
    "# Make the plot\n",
    "plt.bar(r3, targetClaims[0], color='#A569BD', width=barWidth, edgecolor='white', label='GPT-4')\n",
    "plt.bar(r1, targetClaims[1], color='#453896', width=barWidth, edgecolor='white', label='Llama-7b')\n",
    "plt.bar(r2, targetClaims[2], color='#6790D7', width=barWidth, edgecolor='white', label='Llama-13b')\n",
    " \n",
    "# Add xticks on the middle of the group bars\n",
    "plt.xlabel('False claims per dataset per LLM', fontweight='bold')\n",
    "plt.xticks([r + barWidth for r in range(len(targetClaims[0]))], ['factool-qa', 'felm-wk', 'factcheckgpt'])\n",
    "plt.ylabel('Number of true claims', fontweight='bold')\n",
    " \n",
    "# Create legend & Show graphic\n",
    "plt.legend()\n",
    "# plt.show()\n",
    "plt.tight_layout()\n",
    "plt.savefig(\"../figs/freeform_numtrueclaim.pdf\", format='pdf')"
   ]
  },
  {
   "cell_type": "markdown",
   "id": "118010d8-0429-4269-a0ac-5f8a2d25583c",
   "metadata": {},
   "source": [
    "#### All claims"
   ]
  },
  {
   "cell_type": "code",
   "execution_count": 14,
   "id": "8fac5e68-6943-416a-b771-9c951a6de6fe",
   "metadata": {},
   "outputs": [
    {
     "data": {
      "image/png": "[encoded data removed]",
      "text/plain": [
       "<Figure size 640x480 with 1 Axes>"
      ]
     },
     "metadata": {},
     "output_type": "display_data"
    }
   ],
   "source": [
    "# set width of bars\n",
    "barWidth = 0.25\n",
    " \n",
    "# Set position of bar on X axis\n",
    "r1 = np.arange(len(allClaims[0]))\n",
    "r2 = [x + barWidth for x in r1]\n",
    "r3 = [x + barWidth for x in r2]\n",
    " \n",
    "# Make the plot\n",
    "plt.bar(r1, allClaims[1], color='salmon', width=barWidth, edgecolor='white', label='Llama-7b')\n",
    "plt.bar(r2, allClaims[2], color='#6790D7', width=barWidth, edgecolor='white', label='Llama-13b')\n",
    "plt.bar(r3, allClaims[0], color='violet', width=barWidth, edgecolor='white', label='GPT-4')\n",
    " \n",
    "# Add xticks on the middle of the group bars\n",
    "# plt.xlabel('False claims per dataset per LLM', fontweight='bold')\n",
    "plt.xticks([r + barWidth for r in range(len(allClaims[0]))], ['factool-qa', 'felm-wk', 'factcheckgpt'], fontweight='bold')\n",
    "plt.ylabel('Number of all claims', fontweight='bold')\n",
    " \n",
    "# Create legend & Show graphic\n",
    "plt.legend()\n",
    "# plt.show()\n",
    "plt.tight_layout()\n",
    "plt.savefig(\"../figs/freeform_allclaim.pdf\", format='pdf')"
   ]
  },
  {
   "cell_type": "markdown",
   "id": "345f1a5f-d0de-47a0-83d6-57e09b5c639a",
   "metadata": {},
   "source": [
    "#### USD Cost"
   ]
  },
  {
   "cell_type": "code",
   "execution_count": 15,
   "id": "ef96a86e-fda1-4495-9503-3b9bbd2052d0",
   "metadata": {},
   "outputs": [
    {
     "data": {
      "image/png": "[encoded data removed]",
      "text/plain": [
       "<Figure size 640x480 with 1 Axes>"
      ]
     },
     "metadata": {},
     "output_type": "display_data"
    }
   ],
   "source": [
    "# Filter factool-qa|felm-wk|factcheckgpt datasets and GPT4|llama7b|llama13b llms\n",
    "costs = [[0, 0, 0],[0, 0, 0],[0, 0, 0]]\n",
    "for d in data:\n",
    "    if d[\"llm\"] == \"GPT4_response\":\n",
    "        if d[\"dataset\"] == \"factool-qa\":\n",
    "            costs[0][0] += calcPrice(sumAllObj(d[\"claims\"]))\n",
    "        elif d[\"dataset\"] == \"felm-wk\":\n",
    "            costs[0][1] += calcPrice(sumAllObj(d[\"claims\"]))\n",
    "        elif d[\"dataset\"] == \"factcheckgpt\":\n",
    "            costs[0][2] += calcPrice(sumAllObj(d[\"claims\"]))\n",
    "    elif d[\"llm\"] == \"llama7b_response\":\n",
    "        if d[\"dataset\"] == \"factool-qa\":\n",
    "            costs[1][0] += calcPrice(sumAllObj(d[\"claims\"]))\n",
    "        elif d[\"dataset\"] == \"felm-wk\":\n",
    "            costs[1][1] += calcPrice(sumAllObj(d[\"claims\"]))\n",
    "        elif d[\"dataset\"] == \"factcheckgpt\":\n",
    "            costs[1][2] += calcPrice(sumAllObj(d[\"claims\"]))\n",
    "    elif d[\"llm\"] == \"llama13b_response\":\n",
    "        if d[\"dataset\"] == \"factool-qa\":\n",
    "            costs[2][0] += calcPrice(sumAllObj(d[\"claims\"]))\n",
    "        elif d[\"dataset\"] == \"felm-wk\":\n",
    "            costs[2][1] += calcPrice(sumAllObj(d[\"claims\"]))\n",
    "        elif d[\"dataset\"] == \"factcheckgpt\":\n",
    "            costs[2][2] += calcPrice(sumAllObj(d[\"claims\"]))\n",
    "\n",
    "# set width of bars\n",
    "barWidth = 0.25\n",
    " \n",
    "# Set position of bar on X axis\n",
    "r1 = np.arange(len(costs[0]))\n",
    "r2 = [x + barWidth for x in r1]\n",
    "r3 = [x + barWidth for x in r2]\n",
    " \n",
    "# Make the plot\n",
    "\n",
    "plt.bar(r1, costs[1], color='#4538FF', width=barWidth, edgecolor='white', label='Llama-7b')\n",
    "plt.bar(r2, costs[2], color='#6790FF', width=barWidth, edgecolor='white', label='Llama-13b')\n",
    "plt.bar(r3, costs[0], color='#A569FF', width=barWidth, edgecolor='white', label='GPT-4')\n",
    " \n",
    "# Add xticks on the middle of the group bars\n",
    "# plt.xlabel('Costs per dataset per LLM', fontweight='bold')\n",
    "plt.xticks([r + barWidth for r in range(len(costs[0]))], ['factool-qa', 'felm-wk', 'factcheckgpt'], fontweight='bold')\n",
    "plt.ylabel('Cost in USD using FacTool', fontweight='bold')\n",
    " \n",
    "# Create legend & Show graphic\n",
    "plt.legend()\n",
    "# plt.show()\n",
    "plt.tight_layout()\n",
    "plt.savefig(\"../figs/freeform_cost.pdf\", format='pdf')"
   ]
  },
  {
   "cell_type": "markdown",
   "id": "57d88657-441d-40b8-ad66-2898f802500c",
   "metadata": {},
   "source": [
    "## Fact-checking system Evaluation"
   ]
  },
  {
   "cell_type": "markdown",
   "id": "83a50f00-d360-40b8-8684-026ce9444df1",
   "metadata": {},
   "source": [
    "### Perplexity AI"
   ]
  },
  {
   "cell_type": "code",
   "execution_count": null,
   "id": "8838101c-dc7c-4b35-9479-6b329c81d37e",
   "metadata": {},
   "outputs": [],
   "source": [
    "import sys\n",
    "sys.path.append(\"../exp/\")\n",
    "from pplx import call_pplxai\n",
    "\n",
    "df = pd.read_json(\"../data/Factbench.jsonl\", lines=True)\n",
    "data = []\n",
    "for source in ['factool-qa', 'felm-wk']:        \n",
    "    t = df[df['source'] == source]\n",
    "    print(len(t))\n",
    "    for k, v in t.iterrows():\n",
    "        for claim in v['claims']:\n",
    "            prompt = f\"Is the following claim true or false: {claim}\"\n",
    "            r = call_pplxai(prompt)\n",
    "            data.append({\"source\": source, \"id\":k, \"claim\": claim, \"pplxai_response\": r})\n",
    "            pd.DataFrame(data).to_json(\"../exp/checker_eval_results/pplxai_evaluation.jsonl\", \n",
    "                                       lines=True, orient=\"records\")        "
   ]
  },
  {
   "cell_type": "markdown",
   "id": "36aa16d4-423d-424c-8133-ea3c2f6fb28c",
   "metadata": {},
   "source": [
    "#### Parse Responses"
   ]
  },
  {
   "cell_type": "code",
   "execution_count": null,
   "id": "d677ee67-0652-44de-96ea-e0fc6ef179c5",
   "metadata": {},
   "outputs": [],
   "source": [
    "import string\n",
    "import pandas as pd\n",
    "df = pd.read_json(\"../exp/checker_eval_results/pplxai_evaluation.jsonl\", lines=True)\n",
    "print(len(df), df.columns)\n",
    "\n",
    "decisions = []\n",
    "unknown = []\n",
    "outputs = []\n",
    "for i, output in enumerate(df['pplxai_response'].to_list()):\n",
    "    generated_answer = output.strip().lower()\n",
    "    if \"true\" in generated_answer or \"false\" in generated_answer:\n",
    "        outputs.append(output)\n",
    "        if \"true\" in generated_answer and \"false\" not in generated_answer:\n",
    "            is_supported = True\n",
    "        elif \"false\" in generated_answer and \"true\" not in generated_answer:\n",
    "            is_supported = False\n",
    "        else:\n",
    "            is_supported = generated_answer.index(\"true\") > generated_answer.index(\"false\")\n",
    "    else:\n",
    "        if output == \"\":\n",
    "            is_supported = \"unknown\"\n",
    "            # print(df['claim'].to_list()[i])\n",
    "            claim = df['claim'].to_list()[i]\n",
    "            prompt = f\"Is the following claim true or false: {claim}\"\n",
    "            r = call_pplxai(prompt)\n",
    "            print(r)\n",
    "            unknown.append(r)\n",
    "            outputs.append(r)\n",
    "        else:\n",
    "            is_supported = all([keyword not in generated_answer.lower().translate(str.maketrans(\"\", \"\", string.punctuation)).split() for keyword in [\"not\", \"cannot\", \"unknown\", \"information\"]])\n",
    "            outputs.append(output)\n",
    "    decisions.append(is_supported)\n",
    "print(len(outputs))\n",
    "\n",
    "# df['pplxai_response'] = outputs\n",
    "df[\"is_supported\"] = decisions\n",
    "df.to_json(\"../exp/checker_eval_results/pplxai_evaluation.jsonl\", lines=True, orient=\"records\") "
   ]
  },
  {
   "cell_type": "markdown",
   "id": "e01dbe27-3324-4e06-bfce-60f0c8a89661",
   "metadata": {},
   "source": [
    "#### Evaluate Results"
   ]
  },
  {
   "cell_type": "code",
   "execution_count": null,
   "id": "caf5e20c-323b-4e0a-9a4a-0d49cadbafe7",
   "metadata": {},
   "outputs": [],
   "source": [
    "from eval import eval_binary_classification, eval_classification\n",
    "\n",
    "df = pd.read_json(\"../data/Factbench.jsonl\", lines=True)\n",
    "gold_labels = {'factcheckgpt': [], 'factool-qa': [], 'felm-wk': [], 'halueval-dolly15k': []}\n",
    "for source in ['factcheckgpt', 'factool-qa', 'felm-wk', 'halueval-dolly15k']:        \n",
    "    t = df[df['source'] == source]\n",
    "    if source == 'halueval-dolly15k':\n",
    "        gold_labels[source] = list(t['response_label'])\n",
    "    else:\n",
    "        for l in t['claim_labels']:\n",
    "            gold_labels[source] += l\n",
    "\n",
    "df = pd.read_json(\"../exp/checker_eval_results/pplxai_evaluation.jsonl\", lines=True)\n",
    "for source in ['factool-qa', 'felm-wk']:    \n",
    "    d1 = df[df['source'] == source]\n",
    "    # print(len(d1))\n",
    "    p = d1[\"is_supported\"]\n",
    "    v = gold_labels[source]\n",
    "    mt = eval_binary_classification(v, p, pos_label=True)\n",
    "    mf = eval_binary_classification(v, p, pos_label=False)\n",
    "    print(f\"{mt['precision']} & {mt['recall']} & {mt['F1']} & {mf['precision']} & {mf['recall']} & {mf['F1']}\")"
   ]
  },
  {
   "cell_type": "markdown",
   "id": "bd6efe0d-7fb1-4843-a62f-90fc59f5e113",
   "metadata": {},
   "source": [
    "### FactCheckGPT by langchain"
   ]
  },
  {
   "cell_type": "code",
   "execution_count": null,
   "id": "ab1620ad-0dc7-41f0-9596-c2f78a3e6c26",
   "metadata": {},
   "outputs": [],
   "source": [
    "import pandas as pd\n",
    "from factcheck_langchain import run_langchain\n",
    "df = pd.read_json(\"../data/Factbench.jsonl\", lines=True)\n",
    "claims, gold_labels = [], []\n",
    "for source in ['factool-qa', 'felm-wk']:\n",
    "    t = df[df['source'] == source]\n",
    "    for l in t['claim_labels']:\n",
    "        gold_labels += l\n",
    "    for c in t['claims']:\n",
    "        claims += c\n",
    "print(len(claims), len(gold_labels))\n",
    "\n",
    "outputs = []\n",
    "for claim in claims:\n",
    "    output = run_langchain(claim)\n",
    "    outputs.append(output)\n",
    "    pd.DataFrame(outputs).to_json(\"../exp/checker_eval_results/langchain_results.jsonl\", lines=True, orient=\"records\")"
   ]
  },
  {
   "cell_type": "markdown",
   "id": "90ad5727-d430-42ec-aca2-c1ca4c01ed53",
   "metadata": {},
   "source": [
    "#### Evaluate"
   ]
  },
  {
   "cell_type": "code",
   "execution_count": 22,
   "id": "41fc556c-579c-4c8d-948a-63141dc9abf9",
   "metadata": {},
   "outputs": [
    {
     "name": "stdout",
     "output_type": "stream",
     "text": [
      "765 Index(['claim', 'langchain_output', 'langchain_messages', 'usd-cost',\n",
      "       'time-cost', 'loop_count'],\n",
      "      dtype='object')\n",
      "195\n",
      "0.88 & 0.88 & 0.88 & 0.63 & 0.63 & 0.63\n",
      "391\n",
      "0.81 & 0.87 & 0.84 & 0.55 & 0.44 & 0.49\n"
     ]
    }
   ],
   "source": [
    "from collections import Counter\n",
    "f = pd.read_json(\"../exp/checker_eval_results/langchain_results.jsonl\", lines=True)\n",
    "print(len(f), f.columns)\n",
    "res = f[\"langchain_output\"].to_list()\n",
    "# Counter(res)\n",
    "\n",
    "for source in ['factool-qa', 'felm-wk']:\n",
    "    if source == \"factool-qa\":\n",
    "        g, p = [], []\n",
    "        for i in range(233):\n",
    "            if res[i] in [\"True\", \"False\"]:\n",
    "                g += [gold_labels[i]]\n",
    "                p += [res[i] == \"True\"]\n",
    "    elif source == \"felm-wk\":\n",
    "        g, p = [], []\n",
    "        for i in range(233, 765):\n",
    "            if res[i] in [\"True\", \"False\"]:\n",
    "                g += [gold_labels[i]]\n",
    "                p += [res[i] == \"True\"]\n",
    "    print(len(g))    \n",
    "    mt = eval_binary_classification(g, p, pos_label=True)\n",
    "    mf = eval_binary_classification(g, p, pos_label=False)\n",
    "    print(f\"{mt['precision']} & {mt['recall']} & {mt['F1']} & {mf['precision']} & {mf['recall']} & {mf['F1']}\")"
   ]
  },
  {
   "cell_type": "markdown",
   "id": "5d597ec0-4564-47dc-8a2c-3d13addb982b",
   "metadata": {},
   "source": [
    "### FacTool"
   ]
  },
  {
   "cell_type": "markdown",
   "id": "56ebe10c-0f8f-428a-a30e-d559f95d56a5",
   "metadata": {},
   "source": [
    "run factool_chatgpt.py"
   ]
  },
  {
   "cell_type": "markdown",
   "id": "8a2f95ac-80fc-4754-9e77-ebfcfcb3a022",
   "metadata": {},
   "source": [
    "#### Evaluate factool-chatgpt results"
   ]
  },
  {
   "cell_type": "code",
   "execution_count": 26,
   "id": "8745819e-fd3d-41ed-9b3f-3b4d1e610f7f",
   "metadata": {},
   "outputs": [
    {
     "name": "stdout",
     "output_type": "stream",
     "text": [
      "234 Index(['claims_info', 'source', 'prompt', 'response', 'start', 'end'], dtype='object')\n",
      "233 233 233 233\n",
      "0.92 & 0.59 & 0.72 & 0.39 & 0.84 & 0.53\n",
      "532 532 532 532\n",
      "0.78 & 0.62 & 0.69 & 0.35 & 0.54 & 0.43\n"
     ]
    }
   ],
   "source": [
    "df = pd.read_json(\"../exp/checker_eval_results/factool_chatgpt_results.jsonl\", lines=True)\n",
    "print(len(df), df.columns)  # 50+184\n",
    "for source in ['factool-qa', 'felm-wk']:\n",
    "    t = df[df['source'] == source]\n",
    "    # print(len(t))\n",
    "    claims_info = t['claims_info'].to_list()\n",
    "    claims, gold_labels, pred_labels, evidences = get_claim_info(claims_info)\n",
    "    pred_labels = [True if p==1 else False for p in pred_labels]\n",
    "    mt = eval_binary_classification(gold_labels, pred_labels, pos_label=True)\n",
    "    mf = eval_binary_classification(gold_labels, pred_labels, pos_label=False)\n",
    "    print(f\"{mt['precision']} & {mt['recall']} & {mt['F1']} & {mf['precision']} & {mf['recall']} & {mf['F1']}\")"
   ]
  },
  {
   "cell_type": "markdown",
   "id": "b4976b97-e0b6-4f84-8634-04b20ec210d1",
   "metadata": {},
   "source": [
    "#### Based on Factool Evidence, verify by LLaMA3"
   ]
  },
  {
   "cell_type": "code",
   "execution_count": 28,
   "id": "72394edc-321b-404a-9077-6e3e1711f42d",
   "metadata": {},
   "outputs": [],
   "source": [
    "from factool_llama3_verify import verifier_prompt, LLaMA3\n",
    "\n",
    "def get_claim_info(claims_info):\n",
    "    claims, gold_labels, pred_labels, evidences = [], [], [], []\n",
    "    for id, response in enumerate(claims_info):\n",
    "        # if gold_num_claims[id] != len(response):\n",
    "        #     print(id, len(response), gold_num_claims[id])\n",
    "        #     break\n",
    "        for k, claim in response.items():\n",
    "            # k is the claim text, v information of the claim\n",
    "            claims.append(claim['claim'])\n",
    "            gold_labels.append(claim['prior_label'])\n",
    "            pred_labels.append(claim['label'])\n",
    "            evidences.append([evid['web_page_snippet_manual'] for evid in claim['evidence_list']])\n",
    "    print(len(claims), len(gold_labels), len(pred_labels), len(evidences))\n",
    "    return claims, gold_labels, pred_labels, evidences\n",
    "\n",
    "def get_model_inputs(claims, evidences, prompt=verifier_prompt):\n",
    "    samples = []\n",
    "    for claim, evids in zip(claims, evidences):\n",
    "        evidence = \"\\n\"\n",
    "        for i, evid in enumerate(evids):\n",
    "            evidence += f\"evidence_{i}: {evid} \\n\"\n",
    "        samples.append(prompt.format(claim=claim, evidence=evidence))\n",
    "    print(len(samples))\n",
    "    return samples"
   ]
  },
  {
   "cell_type": "code",
   "execution_count": null,
   "id": "e8c85b02-3f00-4e19-89a9-445065f14994",
   "metadata": {},
   "outputs": [],
   "source": [
    "import pandas as pd\n",
    "df = pd.read_json(\"../exp/checker_eval_results/factool_chatgpt_results.jsonl\", lines=True)\n",
    "\n",
    "print(len(df), df.columns)  # 50+184\n",
    "samples = []\n",
    "for source in ['factool-qa', 'felm-wk']:\n",
    "    t = df[df['source'] == source]\n",
    "    # print(len(t))\n",
    "    claims_info = t['claims_info'].to_list()\n",
    "    claims, gold_labels, pred_labels, evidences = get_claim_info(claims_info)\n",
    "    samples += get_model_inputs(claims, evidences, prompt=verifier_prompt)\n",
    "print(len(samples))\n",
    "# print(samples[0])\n",
    "\n",
    "model = LLaMA3()\n",
    "responses = []\n",
    "batch_size = 20\n",
    "for i in range(int(len(samples)/batch_size)+1):\n",
    "    inputs = samples[i*batch_size:(i+1)*batch_size]\n",
    "    outputs = model.generate(inputs)\n",
    "    responses += outputs\n",
    "    pd.DataFrame(responses).to_json(\"../exp/checker_eval_results/factool_evidence_llama3_verifier_responses.jsonl\", \n",
    "                                    lines=True, orient=\"records\")\n",
    "print(len(responses))"
   ]
  },
  {
   "cell_type": "markdown",
   "id": "8e7592c4-ab62-4d0c-acee-2b87f64ca016",
   "metadata": {},
   "source": [
    "#### Parse Responses and Evaluate"
   ]
  },
  {
   "cell_type": "code",
   "execution_count": null,
   "id": "6e49e1d5-08d4-4006-934c-9459d7af2af0",
   "metadata": {},
   "outputs": [],
   "source": [
    "import re\n",
    "decisions = []\n",
    "count = 0\n",
    "for i, text in enumerate(responses):\n",
    "    match = re.findall(r'\"factuality\": (true|false)', text.lower())\n",
    "    if match:\n",
    "        is_supported = match[0]\n",
    "    else:\n",
    "        count += 1\n",
    "        is_supported = 'false'\n",
    "        # print(\"No match found.\")\n",
    "    decisions.append(is_supported)\n",
    "decisions = [True if d == 'true' else False for d in decisions]\n",
    "print(count, len(decisions))\n",
    "\n",
    "predictions = {'factool-qa': decisions[:233], 'felm-wk': decisions[233:]}\n",
    "df = pd.read_json(\"../exp/checker_eval_results/factool_chatgpt_results.jsonl\", lines=True)\n",
    "print(len(df), df.columns)  # 50+184\n",
    "for source in ['factool-qa', 'felm-wk']:\n",
    "    t = df[df['source'] == source]\n",
    "    # print(len(t))\n",
    "    claims_info = t['claims_info'].to_list()\n",
    "    claims, gold_labels, _, evidences = get_claim_info(claims_info)\n",
    "    pred_labels = predictions[source]\n",
    "    mt = eval_binary_classification(gold_labels, pred_labels, pos_label=True)\n",
    "    mf = eval_binary_classification(gold_labels, pred_labels, pos_label=False)\n",
    "    print(f\"{mt['precision']} & {mt['recall']} & {mt['F1']} & {mf['precision']} & {mf['recall']} & {mf['F1']}\")"
   ]
  },
  {
   "cell_type": "markdown",
   "id": "906e5d78-1d2a-4a19-a9e3-689d5a6c5951",
   "metadata": {},
   "source": [
    "### FActScore"
   ]
  },
  {
   "cell_type": "code",
   "execution_count": null,
   "id": "c471c974-7a65-49e8-accc-0981c2f6ba2d",
   "metadata": {},
   "outputs": [],
   "source": []
  }
 ],
 "metadata": {
  "kernelspec": {
   "display_name": "Python 3 (ipykernel)",
   "language": "python",
   "name": "python3"
  },
  "language_info": {
   "codemirror_mode": {
    "name": "ipython",
    "version": 3
   },
   "file_extension": ".py",
   "mimetype": "text/x-python",
   "name": "python",
   "nbconvert_exporter": "python",
   "pygments_lexer": "ipython3",
   "version": "3.11.5"
  }
 },
 "nbformat": 4,
 "nbformat_minor": 5
}
